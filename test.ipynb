{
 "cells": [
  {
   "cell_type": "code",
   "execution_count": 1,
   "id": "3743dffd",
   "metadata": {},
   "outputs": [],
   "source": [
    "import numpy as np\n",
    "import ot\n",
    "import os"
   ]
  },
  {
   "cell_type": "code",
   "execution_count": 48,
   "id": "07c0c548",
   "metadata": {},
   "outputs": [],
   "source": [
    "def extend(x,t_x, y, t_y, C):\n",
    "    hat_x = np.zeros(len(x) + 1)\n",
    "    hat_y = np.zeros(len(y) + 1)\n",
    "    C_hat = np.zeros((C.shape[0] + 1, C.shape[1] + 1))\n",
    "    C_hat[:len(x), :len(y)] = C\n",
    "    hat_x[:len(x)] = x\n",
    "    hat_x[len(x)] = np.sum(y)\n",
    "    hat_y[len(y)] = np.sum(x)\n",
    "    hat_y[:len(y)] = y\n",
    "    C_hat[len(x), :len(y)] = t_y\n",
    "    C_hat[:len(x), len(y)] = t_x\n",
    "    return hat_x, hat_y, C_hat"
   ]
  },
  {
   "cell_type": "code",
   "execution_count": 67,
   "id": "3b236d3e",
   "metadata": {},
   "outputs": [],
   "source": [
    "l1 = np.array([255])\n",
    "l2 = np.array([255, 255])\n",
    "l3 = np.array([255, 255])\n",
    "probs12 = np.array([[0.01, 0.95]])\n",
    "probs23 = np.array([[0.90, 0.01], [0.01, 0.90]])\n",
    "\n",
    "C12 = 1/probs12\n",
    "C23 = 1/probs23\n",
    "t1 = np.zeros(1) + 100\n",
    "t2 = np.zeros(2) + 100\n",
    "t3 = np.zeros(2) + 100"
   ]
  },
  {
   "cell_type": "code",
   "execution_count": 64,
   "id": "c82f9c25",
   "metadata": {},
   "outputs": [
    {
     "name": "stdout",
     "output_type": "stream",
     "text": [
      "[[100.           1.05263158 100.        ]\n",
      " [100.         100.           0.        ]]\n",
      "[[  0. 255.]]\n"
     ]
    }
   ],
   "source": [
    "hat_x, hat_y, hat_C = extend(l1, t1, l2, t2, C12)\n",
    "print(hat_C)\n",
    "T = ot.emd(hat_x, hat_y, hat_C)\n",
    "print(T[:1, :2])"
   ]
  },
  {
   "cell_type": "code",
   "execution_count": 69,
   "id": "fabbb94d",
   "metadata": {},
   "outputs": [
    {
     "name": "stdout",
     "output_type": "stream",
     "text": [
      "[[  1.11111111 100.         100.        ]\n",
      " [100.           1.11111111 100.        ]\n",
      " [100.         100.           0.        ]]\n",
      "[[255.   0.   0.]\n",
      " [  0. 255.   0.]\n",
      " [  0.   0. 610.]]\n"
     ]
    }
   ],
   "source": [
    "hat_x, hat_y, hat_C = extend(l2, t2, l3, t3, C23)\n",
    "print(hat_C)\n",
    "T = ot.emd(hat_x, hat_y, hat_C)\n",
    "print(T)"
   ]
  }
 ],
 "metadata": {
  "kernelspec": {
   "display_name": "Python 3",
   "language": "python",
   "name": "python3"
  },
  "language_info": {
   "codemirror_mode": {
    "name": "ipython",
    "version": 3
   },
   "file_extension": ".py",
   "mimetype": "text/x-python",
   "name": "python",
   "nbconvert_exporter": "python",
   "pygments_lexer": "ipython3",
   "version": "3.8.10"
  }
 },
 "nbformat": 4,
 "nbformat_minor": 5
}
